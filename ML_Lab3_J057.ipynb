{
  "nbformat": 4,
  "nbformat_minor": 0,
  "metadata": {
    "colab": {
      "name": "ML-Lab3-Ex1.ipynb",
      "provenance": [],
      "private_outputs": true,
      "collapsed_sections": []
    },
    "kernelspec": {
      "name": "python3",
      "display_name": "Python 3"
    }
  },
  "cells": [
    {
      "cell_type": "markdown",
      "metadata": {
        "id": "ywwXwTF0aSoT",
        "colab_type": "text"
      },
      "source": [
        "## Importing the Dataset"
      ]
    },
    {
      "cell_type": "code",
      "metadata": {
        "id": "o7_s8LrOvzf_",
        "colab_type": "code",
        "colab": {}
      },
      "source": [
        "import numpy as np  # useful for many scientific computing in Python\n",
        "import pandas as pd # primary data structure library\n",
        "\n",
        "!conda install -c anaconda xlrd --yes\n",
        "\n",
        "df_can = pd.read_excel('https://s3-api.us-geo.objectstorage.softlayer.net/cf-courses-data/CognitiveClass/DV0101EN/labs/Data_Files/Canada.xlsx',\n",
        "                       sheet_name='Canada by Citizenship',\n",
        "                       skiprows=range(20),\n",
        "                       skipfooter=2)\n",
        "\n",
        "print ('Data read into a pandas dataframe!')"
      ],
      "execution_count": null,
      "outputs": []
    },
    {
      "cell_type": "markdown",
      "metadata": {
        "id": "Fxt5HiiCaglk",
        "colab_type": "text"
      },
      "source": [
        "## Printing the first 10 rows of the Dataset"
      ]
    },
    {
      "cell_type": "code",
      "metadata": {
        "id": "6jWY-Sr4x9ct",
        "colab_type": "code",
        "colab": {}
      },
      "source": [
        "#Dataset of immigration into canada from other countries - 1980 to 2013 (each year and each country)\n",
        "\n",
        "df_can.head(10)"
      ],
      "execution_count": null,
      "outputs": []
    },
    {
      "cell_type": "markdown",
      "metadata": {
        "id": "w-UoPyoZam67",
        "colab_type": "text"
      },
      "source": [
        "## Checking the Shape of the Dataset"
      ]
    },
    {
      "cell_type": "code",
      "metadata": {
        "id": "dcsOLhH6yQm8",
        "colab_type": "code",
        "colab": {}
      },
      "source": [
        "df_can.shape"
      ],
      "execution_count": null,
      "outputs": []
    },
    {
      "cell_type": "markdown",
      "metadata": {
        "id": "_gkgOi5OauFd",
        "colab_type": "text"
      },
      "source": [
        "## Checking the Last 5 Rows of the Dataset"
      ]
    },
    {
      "cell_type": "code",
      "metadata": {
        "id": "rUllMJIKyaa0",
        "colab_type": "code",
        "colab": {}
      },
      "source": [
        "df_can.tail()"
      ],
      "execution_count": null,
      "outputs": []
    },
    {
      "cell_type": "code",
      "metadata": {
        "id": "KcI3evEKyhO8",
        "colab_type": "code",
        "colab": {}
      },
      "source": [
        "df_can.info()"
      ],
      "execution_count": null,
      "outputs": []
    },
    {
      "cell_type": "markdown",
      "metadata": {
        "id": "NA8yMYtWa0GI",
        "colab_type": "text"
      },
      "source": [
        "## Removing Unnecessary Columns\n",
        "#### AREA, REG, DEV, Type, Coverage"
      ]
    },
    {
      "cell_type": "code",
      "metadata": {
        "id": "zuU2kOXhylzA",
        "colab_type": "code",
        "colab": {}
      },
      "source": [
        "#simplify and remove unnecessary columns\n",
        "\n",
        "df_can.drop(['AREA','REG','DEV','Type','Coverage'], inplace=True, axis='columns')"
      ],
      "execution_count": null,
      "outputs": []
    },
    {
      "cell_type": "code",
      "metadata": {
        "id": "fQev8DFFzP3j",
        "colab_type": "code",
        "colab": {}
      },
      "source": [
        "df_can.head()"
      ],
      "execution_count": null,
      "outputs": []
    },
    {
      "cell_type": "markdown",
      "metadata": {
        "id": "ygk8rQGJbC_H",
        "colab_type": "text"
      },
      "source": [
        "## Renaming the Columns"
      ]
    },
    {
      "cell_type": "code",
      "metadata": {
        "id": "TH2zOt4BzRu2",
        "colab_type": "code",
        "colab": {}
      },
      "source": [
        "#rename columns to sensible names\n",
        "\n",
        "df_can.rename(columns={'OdName':'Country', 'AreaName':'Continent', 'RegName':'Continent-Region'}, inplace=True)"
      ],
      "execution_count": null,
      "outputs": []
    },
    {
      "cell_type": "code",
      "metadata": {
        "id": "OHruHZZxzrm0",
        "colab_type": "code",
        "colab": {}
      },
      "source": [
        "df_can.head()"
      ],
      "execution_count": null,
      "outputs": []
    },
    {
      "cell_type": "markdown",
      "metadata": {
        "id": "5dkao9Z9bHnz",
        "colab_type": "text"
      },
      "source": [
        "## Counting the Total Immigration by Country for all Years"
      ]
    },
    {
      "cell_type": "code",
      "metadata": {
        "id": "pJw0rUA9zwWF",
        "colab_type": "code",
        "colab": {}
      },
      "source": [
        "#count total immigration by country for all years\n",
        "\n",
        "df_can['total_immigration'] = df_can.sum(axis='columns')"
      ],
      "execution_count": null,
      "outputs": []
    },
    {
      "cell_type": "code",
      "metadata": {
        "id": "ecrbaerx0PTe",
        "colab_type": "code",
        "colab": {}
      },
      "source": [
        "df_can.head()"
      ],
      "execution_count": null,
      "outputs": []
    },
    {
      "cell_type": "code",
      "metadata": {
        "id": "tOWzArxa0W_L",
        "colab_type": "code",
        "colab": {}
      },
      "source": [
        "df_can.describe()"
      ],
      "execution_count": null,
      "outputs": []
    },
    {
      "cell_type": "markdown",
      "metadata": {
        "id": "B0-FJrIPbP-h",
        "colab_type": "text"
      },
      "source": [
        "## Checking for Null/NA Values"
      ]
    },
    {
      "cell_type": "code",
      "metadata": {
        "id": "vYd7ctKP0bkX",
        "colab_type": "code",
        "colab": {}
      },
      "source": [
        "df_can.isnull().sum()"
      ],
      "execution_count": null,
      "outputs": []
    },
    {
      "cell_type": "markdown",
      "metadata": {
        "id": "VWRzF2PBbaMM",
        "colab_type": "text"
      },
      "source": [
        "## Viewing the Datatypes of the Columns"
      ]
    },
    {
      "cell_type": "code",
      "metadata": {
        "id": "mhwnF2jG0hdo",
        "colab_type": "code",
        "colab": {}
      },
      "source": [
        "df_can.dtypes"
      ],
      "execution_count": null,
      "outputs": []
    },
    {
      "cell_type": "markdown",
      "metadata": {
        "id": "49nEgow0bYt0",
        "colab_type": "text"
      },
      "source": [
        "## Printing the Immigration from Years 1980-1985 for all Countries"
      ]
    },
    {
      "cell_type": "code",
      "metadata": {
        "id": "FVrAvZcQ00Lh",
        "colab_type": "code",
        "colab": {}
      },
      "source": [
        "#Select immigration of years 1980-1985 from the dataset, for all countries?\n",
        "#get the list of columns in the dataframe\n",
        "df_can.columns\n",
        "df_can[['Country',1980,1981,1982,1983,1984,1985]]"
      ],
      "execution_count": null,
      "outputs": []
    },
    {
      "cell_type": "markdown",
      "metadata": {
        "id": "uCGJWww_bxO7",
        "colab_type": "text"
      },
      "source": [
        "## Changing the Index from Numbers to Country Names"
      ]
    },
    {
      "cell_type": "code",
      "metadata": {
        "id": "_AL6e-UG1rxz",
        "colab_type": "code",
        "colab": {}
      },
      "source": [
        "#simplify the dataset by changing the index from numbers to country names\n",
        "\n",
        "df_can.index.values"
      ],
      "execution_count": null,
      "outputs": []
    },
    {
      "cell_type": "code",
      "metadata": {
        "id": "VChUlQ5d2X5U",
        "colab_type": "code",
        "colab": {}
      },
      "source": [
        "df_can.set_index('Country', inplace=True)"
      ],
      "execution_count": null,
      "outputs": []
    },
    {
      "cell_type": "code",
      "metadata": {
        "id": "J9c3Ng_g2gC5",
        "colab_type": "code",
        "colab": {}
      },
      "source": [
        "df_can.head()"
      ],
      "execution_count": null,
      "outputs": []
    },
    {
      "cell_type": "code",
      "metadata": {
        "id": "1yVK2qvt2nIi",
        "colab_type": "code",
        "colab": {}
      },
      "source": [
        "print(df_can.loc['India'])"
      ],
      "execution_count": null,
      "outputs": []
    },
    {
      "cell_type": "code",
      "metadata": {
        "id": "PDZpjwty2yot",
        "colab_type": "code",
        "colab": {}
      },
      "source": [
        "df_can.iloc[8]"
      ],
      "execution_count": null,
      "outputs": []
    },
    {
      "cell_type": "code",
      "metadata": {
        "id": "XokeWo9S291M",
        "colab_type": "code",
        "colab": {}
      },
      "source": [
        "print(df_can.loc['Japan',2000])"
      ],
      "execution_count": null,
      "outputs": []
    },
    {
      "cell_type": "code",
      "metadata": {
        "id": "w7NtDbbi3Fsn",
        "colab_type": "code",
        "colab": {}
      },
      "source": [
        "print(df_can.iloc[12,12])"
      ],
      "execution_count": null,
      "outputs": []
    },
    {
      "cell_type": "markdown",
      "metadata": {
        "id": "2VthDN0pcUuT",
        "colab_type": "text"
      },
      "source": [
        "## Converting Column Names to String"
      ]
    },
    {
      "cell_type": "code",
      "metadata": {
        "id": "DFoPHbIt3MgA",
        "colab_type": "code",
        "colab": {}
      },
      "source": [
        "#convert columns names to string\n",
        "#map - syntax(function, collection)\n",
        "#apply function to each element of the collection - equivalent apply, mapply,sapply,lapply functions of R\n",
        "\n",
        "df_can.columns = list(map(str,df_can.columns))"
      ],
      "execution_count": null,
      "outputs": []
    },
    {
      "cell_type": "code",
      "metadata": {
        "id": "OK2DS9Dr348i",
        "colab_type": "code",
        "colab": {}
      },
      "source": [
        "df_can.columns"
      ],
      "execution_count": null,
      "outputs": []
    },
    {
      "cell_type": "markdown",
      "metadata": {
        "id": "t62rleuccdj7",
        "colab_type": "text"
      },
      "source": [
        "# Q. Find all Countries in Asia"
      ]
    },
    {
      "cell_type": "code",
      "metadata": {
        "id": "bMSyTfWP4LMQ",
        "colab_type": "code",
        "colab": {}
      },
      "source": [
        "#filtering on dataframe\n",
        "\n",
        "#Q. find all countries in Asia\n",
        "\n",
        "condition = df_can['Continent'] == 'Asia'\n",
        "df_can[condition]"
      ],
      "execution_count": null,
      "outputs": []
    },
    {
      "cell_type": "code",
      "metadata": {
        "id": "Q-ySy-Xt4kH8",
        "colab_type": "code",
        "colab": {}
      },
      "source": [
        "#Q. multiple conditions\n",
        "\n",
        "df_can[(df_can['Continent']=='Asia')]"
      ],
      "execution_count": null,
      "outputs": []
    },
    {
      "cell_type": "code",
      "metadata": {
        "id": "2LWRJfbI4whK",
        "colab_type": "code",
        "colab": {}
      },
      "source": [
        "df_can[(df_can['1980'] > 1000)]"
      ],
      "execution_count": null,
      "outputs": []
    },
    {
      "cell_type": "markdown",
      "metadata": {
        "id": "JLhWdItOcqkC",
        "colab_type": "text"
      },
      "source": [
        "## Finding Countries in Asia who have more than 10000 immigrations in the Year 2013"
      ]
    },
    {
      "cell_type": "code",
      "metadata": {
        "id": "XtxItcxA4_v0",
        "colab_type": "code",
        "colab": {}
      },
      "source": [
        "#syntax - df[(condition)]\n",
        "\n",
        "df_can[(df_can['Continent']=='Asia')&(df_can['2013']>10000)]"
      ],
      "execution_count": null,
      "outputs": []
    },
    {
      "cell_type": "code",
      "metadata": {
        "id": "D7NEYsIt5mwv",
        "colab_type": "code",
        "colab": {}
      },
      "source": [
        "df_can.where(df_can['Continent']=='Asia')"
      ],
      "execution_count": null,
      "outputs": []
    },
    {
      "cell_type": "markdown",
      "metadata": {
        "id": "DYozyTIadQST",
        "colab_type": "text"
      },
      "source": [
        "# Printing Plots"
      ]
    },
    {
      "cell_type": "markdown",
      "metadata": {
        "id": "jSjyPXh6dU0W",
        "colab_type": "text"
      },
      "source": [
        "## **Importing** the Libraries"
      ]
    },
    {
      "cell_type": "code",
      "metadata": {
        "id": "2sB1aodk58TL",
        "colab_type": "code",
        "colab": {}
      },
      "source": [
        "#conditions\n",
        "#basic stats\n",
        "\n",
        "import matplotlib.pyplot as plt\n",
        "import matplotlib as mpl\n",
        "import plotly as px"
      ],
      "execution_count": null,
      "outputs": []
    },
    {
      "cell_type": "code",
      "metadata": {
        "id": "3morMeAn6eni",
        "colab_type": "code",
        "colab": {}
      },
      "source": [
        "mpl.__version__"
      ],
      "execution_count": null,
      "outputs": []
    },
    {
      "cell_type": "code",
      "metadata": {
        "id": "Mut7_00d7jFz",
        "colab_type": "code",
        "colab": {}
      },
      "source": [
        "df_can.columns"
      ],
      "execution_count": null,
      "outputs": []
    },
    {
      "cell_type": "code",
      "metadata": {
        "id": "ms1WdBdI6kEs",
        "colab_type": "code",
        "colab": {}
      },
      "source": [
        "years = list(map(str,range(1980,2014)))\n",
        "\n",
        "years"
      ],
      "execution_count": null,
      "outputs": []
    },
    {
      "cell_type": "markdown",
      "metadata": {
        "id": "ehdmaWcVeDsl",
        "colab_type": "text"
      },
      "source": [
        "## Plotting Immigrations from India"
      ]
    },
    {
      "cell_type": "code",
      "metadata": {
        "id": "amd89R-j8Z0t",
        "colab_type": "code",
        "colab": {}
      },
      "source": [
        "india = df_can.loc['India',years]"
      ],
      "execution_count": null,
      "outputs": []
    },
    {
      "cell_type": "code",
      "metadata": {
        "id": "QzcuIpEE8fUT",
        "colab_type": "code",
        "colab": {}
      },
      "source": [
        "india"
      ],
      "execution_count": null,
      "outputs": []
    },
    {
      "cell_type": "code",
      "metadata": {
        "id": "5v4Nupw_8jCv",
        "colab_type": "code",
        "colab": {}
      },
      "source": [
        "india.plot()"
      ],
      "execution_count": null,
      "outputs": []
    },
    {
      "cell_type": "code",
      "metadata": {
        "id": "R4LMN5449GZC",
        "colab_type": "code",
        "colab": {}
      },
      "source": [
        "india.index"
      ],
      "execution_count": null,
      "outputs": []
    },
    {
      "cell_type": "markdown",
      "metadata": {
        "id": "9KTMqmHag1hz",
        "colab_type": "text"
      },
      "source": [
        "## Changing the Index to Integer and Plotting the Graph"
      ]
    },
    {
      "cell_type": "code",
      "metadata": {
        "id": "lleAhLXG8sbO",
        "colab_type": "code",
        "colab": {}
      },
      "source": [
        "#change the index to integer\n",
        "india.index = india.index.map(int)\n",
        "\n",
        "india.plot(kind='line')\n",
        "plt.title('Immigration from India')\n",
        "plt.ylabel('Number of immigrants')\n",
        "plt.xlabel('Years')\n",
        "\n",
        "#update the plot\n",
        "plt.show()"
      ],
      "execution_count": null,
      "outputs": []
    },
    {
      "cell_type": "markdown",
      "metadata": {
        "id": "6eTVuTf6hBRw",
        "colab_type": "text"
      },
      "source": [
        "## Plotting the Immigration from india and labelling the \"Y2K Revolution\", \"Recession\" and \"Economic Boom\" Respectively"
      ]
    },
    {
      "cell_type": "code",
      "metadata": {
        "id": "PgKIQU1v9TjT",
        "colab_type": "code",
        "colab": {}
      },
      "source": [
        "india.plot(kind='line')\n",
        "plt.title('Immigration from India')\n",
        "plt.ylabel('Number of immigrants')\n",
        "plt.xlabel('Years')\n",
        "\n",
        "plt.text(2000, 32000, 'Y2K Revolution')\n",
        "plt.text(1990,15000,'Recession')\n",
        "plt.text(1985,10000,'Economic boom')\n",
        "#update the plot\n",
        "plt.show()"
      ],
      "execution_count": null,
      "outputs": []
    },
    {
      "cell_type": "markdown",
      "metadata": {
        "id": "mXZEE__ehWVE",
        "colab_type": "text"
      },
      "source": [
        "## Plotting for China"
      ]
    },
    {
      "cell_type": "code",
      "metadata": {
        "id": "gsZ6xfpb-tL6",
        "colab_type": "code",
        "colab": {}
      },
      "source": [
        "years = list(map(str,range(1980,2014)))\n",
        "\n",
        "\n",
        "china = df_can.loc['China', years]"
      ],
      "execution_count": null,
      "outputs": []
    },
    {
      "cell_type": "code",
      "metadata": {
        "id": "YvzkB_yF-2qD",
        "colab_type": "code",
        "colab": {}
      },
      "source": [
        "china.plot()"
      ],
      "execution_count": null,
      "outputs": []
    },
    {
      "cell_type": "code",
      "metadata": {
        "id": "dCIQ08FK-92r",
        "colab_type": "code",
        "colab": {}
      },
      "source": [
        "china.index = china.index.map(int)\n",
        "\n",
        "china.plot(kind='line')\n",
        "\n",
        "plt.title('Immigration of China')\n",
        "plt.xlabel('Years')\n",
        "plt.ylabel('Immigrants')\n",
        "plt.text(1990,10000,'Marker')\n",
        "plt.show()"
      ],
      "execution_count": null,
      "outputs": []
    },
    {
      "cell_type": "markdown",
      "metadata": {
        "id": "epcT8R-ShfeG",
        "colab_type": "text"
      },
      "source": [
        "## Comparing India and China by potting their graphs"
      ]
    },
    {
      "cell_type": "code",
      "metadata": {
        "id": "8O2xU74V_xmy",
        "colab_type": "code",
        "colab": {}
      },
      "source": [
        "years = list(map(str,range(1980,2014)))\n",
        "\n",
        "\n",
        "chinaindia = df_can.loc[['China','India'], years]\n",
        "\n",
        "new_chinaindia = chinaindia.transpose()\n",
        "new_chinaindia.plot()"
      ],
      "execution_count": null,
      "outputs": []
    },
    {
      "cell_type": "code",
      "metadata": {
        "id": "kMl1VfPr_fZf",
        "colab_type": "code",
        "colab": {}
      },
      "source": [
        "new_chinaindia.index = new_chinaindia.index.map(int)\n",
        "\n",
        "new_chinaindia.plot(kind='line')\n",
        "\n",
        "plt.title('Immigration of China and India')\n",
        "plt.xlabel('Years')\n",
        "plt.ylabel('Immigrants')\n",
        "#plt.text(1990,10000,'Marker')\n",
        "plt.show()"
      ],
      "execution_count": null,
      "outputs": []
    },
    {
      "cell_type": "code",
      "metadata": {
        "id": "rpfe7XXVAje4",
        "colab_type": "code",
        "colab": {}
      },
      "source": [
        "#Q. Which two countries have similar immigration trends over the years 1980-2013?\n",
        "\n",
        "#Q. France and Germany"
      ],
      "execution_count": null,
      "outputs": []
    },
    {
      "cell_type": "markdown",
      "metadata": {
        "id": "AcCovzMVh3QZ",
        "colab_type": "text"
      },
      "source": [
        "# Plotting for France and Germany"
      ]
    },
    {
      "cell_type": "code",
      "metadata": {
        "id": "lZ1ysWXFh7xo",
        "colab_type": "code",
        "colab": {}
      },
      "source": [
        "frager = df_can.loc[['Germany','France'], years]\n",
        "frager = frager.transpose()\n",
        "frager.index = frager.index.map(int)\n",
        "\n",
        "frager.plot(kind='line', figsize = (10,7))\n",
        "plt.title('Immigration of France and Germany')\n",
        "plt.xlabel('Years')\n",
        "plt.ylabel('No. of Immigrants')\n",
        "plt.show()"
      ],
      "execution_count": null,
      "outputs": []
    },
    {
      "cell_type": "markdown",
      "metadata": {
        "id": "U7AtprWBiN0c",
        "colab_type": "text"
      },
      "source": [
        "## Top 5 Countries sending Immigrants"
      ]
    },
    {
      "cell_type": "code",
      "metadata": {
        "id": "rhOkYYLUBjca",
        "colab_type": "code",
        "colab": {}
      },
      "source": [
        "#top 5 countries that send immigrants to canada\n",
        "df_can.sort_values(by='total_immigration', ascending=False, axis='index', inplace=True)\n",
        "\n",
        "top5 = df_can.head(5)\n",
        "\n",
        "top5"
      ],
      "execution_count": null,
      "outputs": []
    },
    {
      "cell_type": "code",
      "metadata": {
        "id": "TTe-Kn0tChrv",
        "colab_type": "code",
        "colab": {}
      },
      "source": [
        "years = list(map(str,range(1980,2014)))\n",
        "\n",
        "\n",
        "top5_clean = top5[years]\n",
        "\n",
        "top5_clean = top5_clean.transpose()\n",
        "top5_clean.plot()"
      ],
      "execution_count": null,
      "outputs": []
    },
    {
      "cell_type": "markdown",
      "metadata": {
        "id": "A7EkqqHxDSP1",
        "colab_type": "text"
      },
      "source": [
        "#Part 2"
      ]
    },
    {
      "cell_type": "code",
      "metadata": {
        "id": "P9CIo_ouDRS1",
        "colab_type": "code",
        "colab": {}
      },
      "source": [
        "#Area plots - Stacked line plot\n",
        "\n",
        "top5_clean\n",
        "\n"
      ],
      "execution_count": null,
      "outputs": []
    },
    {
      "cell_type": "markdown",
      "metadata": {
        "id": "wyN1GwcYivRz",
        "colab_type": "text"
      },
      "source": [
        "## Area Plot for Top 5 Countries without a stacked figure"
      ]
    },
    {
      "cell_type": "code",
      "metadata": {
        "id": "lqxhFXJ5DmxS",
        "colab_type": "code",
        "colab": {}
      },
      "source": [
        "top5_clean.index = top5_clean.index.map(int)\n",
        "\n",
        "top5_clean.plot(kind=\"area\", stacked=False, figsize=(20,10))\n",
        "\n",
        "plt.title('Immigration trends in top five countries (1980-2013)')\n",
        "plt.xlabel('Years')\n",
        "plt.ylabel('Immigrants count')\n",
        "\n",
        "plt.show()"
      ],
      "execution_count": null,
      "outputs": []
    },
    {
      "cell_type": "markdown",
      "metadata": {
        "id": "q3cLhNBZi9Go",
        "colab_type": "text"
      },
      "source": [
        "## Area Plot for Top 5 Countries with a stacked figure"
      ]
    },
    {
      "cell_type": "code",
      "metadata": {
        "id": "SCgeZKOQEOcT",
        "colab_type": "code",
        "colab": {}
      },
      "source": [
        "top5_clean.index = top5_clean.index.map(int)\n",
        "\n",
        "top5_clean.plot(kind=\"area\", stacked=True, figsize=(20,10))\n",
        "\n",
        "plt.title('Immigration trends in top five countries (1980-2013)')\n",
        "plt.xlabel('Years')\n",
        "plt.ylabel('Immigrants count')\n",
        "\n",
        "plt.show()"
      ],
      "execution_count": null,
      "outputs": []
    },
    {
      "cell_type": "markdown",
      "metadata": {
        "id": "7NMihQKdjFzv",
        "colab_type": "text"
      },
      "source": [
        "## Area Plot for Top 5 Countries without a stacked figure but with alpha = 0.5"
      ]
    },
    {
      "cell_type": "code",
      "metadata": {
        "id": "exTCtG9QEX0o",
        "colab_type": "code",
        "colab": {}
      },
      "source": [
        "top5_clean.index = top5_clean.index.map(int)\n",
        "\n",
        "#alpha parameter for transparency - default = 0.5 (range is 0 to 1)\n",
        "\n",
        "top5_clean.plot(kind=\"area\", stacked=False, figsize=(20,10), alpha=0.25)\n",
        "\n",
        "plt.title('Immigration trends in top five countries (1980-2013)')\n",
        "plt.xlabel('Years')\n",
        "plt.ylabel('Immigrants count')\n",
        "\n",
        "plt.show()"
      ],
      "execution_count": null,
      "outputs": []
    },
    {
      "cell_type": "markdown",
      "metadata": {
        "id": "hEGZ8SbhjMRh",
        "colab_type": "text"
      },
      "source": [
        "# Histogram for the year 2000"
      ]
    },
    {
      "cell_type": "code",
      "metadata": {
        "id": "fXrpjKgTErGU",
        "colab_type": "code",
        "colab": {}
      },
      "source": [
        "#histogram - at a particular time period / snapshot of the data\n",
        "\n",
        "df_can['2000']"
      ],
      "execution_count": null,
      "outputs": []
    },
    {
      "cell_type": "code",
      "metadata": {
        "id": "Gms6E1etE2SO",
        "colab_type": "code",
        "colab": {}
      },
      "source": [
        "df_can['2000'].plot(kind='hist', figsize=(20,10))\n",
        "\n",
        "plt.title('Immigration trends in 195 countries in 2000')\n",
        "plt.xlabel('Number of Immigrants')\n",
        "plt.ylabel('Number of Countries')\n",
        "\n",
        "plt.show()"
      ],
      "execution_count": null,
      "outputs": []
    },
    {
      "cell_type": "markdown",
      "metadata": {
        "id": "pC1mHabCjWr0",
        "colab_type": "text"
      },
      "source": [
        "## Histogram for 'India','China','Denmark','Norway','France','Germany' from 1980-2014\n",
        "\n"
      ]
    },
    {
      "cell_type": "code",
      "metadata": {
        "id": "JY_mSeXTFpOM",
        "colab_type": "code",
        "colab": {}
      },
      "source": [
        "#histogram\n",
        "years = list(map(str,range(1980,2014)))\n",
        "\n",
        "df_can.loc[['India','China','Denmark','Norway','France','Germany'], years].transpose().plot.hist()"
      ],
      "execution_count": null,
      "outputs": []
    },
    {
      "cell_type": "code",
      "metadata": {
        "id": "CtQOw9aVGBhm",
        "colab_type": "code",
        "colab": {}
      },
      "source": [
        "df_can.loc[['India','China','Denmark','Norway','France','Germany'], years].transpose().plot.hist()\n",
        "\n",
        "plt.title('Immigration trends in 6 countries in 1980-2013')\n",
        "plt.xlabel('Number of Immigrants')\n",
        "plt.ylabel('Number of Countries')\n",
        "\n",
        "plt.show()"
      ],
      "execution_count": null,
      "outputs": []
    },
    {
      "cell_type": "markdown",
      "metadata": {
        "id": "FbvWbV7BGpvx",
        "colab_type": "text"
      },
      "source": [
        "#Vertical bar plot"
      ]
    },
    {
      "cell_type": "code",
      "metadata": {
        "id": "ZijyOq5nGpJt",
        "colab_type": "code",
        "colab": {}
      },
      "source": [
        "india = df_can.loc['India', years]\n",
        "\n",
        "india.plot(kind='bar', figsize=(20,10))\n",
        "\n",
        "plt.title('Immigration trends India immigrants from 1980 to 2013')\n",
        "plt.xlabel('Years')\n",
        "plt.ylabel('India immigrants from 1980 to 2013')\n",
        "\n",
        "plt.show()"
      ],
      "execution_count": null,
      "outputs": []
    },
    {
      "cell_type": "code",
      "metadata": {
        "id": "cOOFo9TtKurL",
        "colab_type": "code",
        "colab": {}
      },
      "source": [
        "india = df_can.loc['India', years]\n",
        "\n",
        "india.index = india.index.map(int)\n",
        "\n",
        "\n",
        "india.plot(kind='bar', figsize=(10,6))\n",
        "\n",
        "plt.title('Immigration trends India immigrants from 1980 to 2013')\n",
        "plt.xlabel('Years')\n",
        "plt.ylabel('India immigrants from 1980 to 2013')\n",
        "\n",
        "plt.annotate('Increasing trends', xy=(32, 70),  xycoords='data',\n",
        "            xytext=(28, 20), \n",
        "            arrowprops=dict(facecolor='black', shrink=0.05),\n",
        "            horizontalalignment='left', verticalalignment='top',\n",
        "            )\n",
        "\n",
        "plt.show()"
      ],
      "execution_count": null,
      "outputs": []
    },
    {
      "cell_type": "code",
      "metadata": {
        "id": "nTJlcUd-JHM8",
        "colab_type": "code",
        "colab": {}
      },
      "source": [
        "india = df_can.loc['India', years]\n",
        "\n",
        "india.plot(kind='barh', figsize=(20,10))\n",
        "\n",
        "plt.title('Immigration trends India immigrants from 1980 to 2013')\n",
        "plt.xlabel('India immigrants from 1980 to 2013')\n",
        "plt.ylabel('Years')\n",
        "\n",
        "plt.show()"
      ],
      "execution_count": null,
      "outputs": []
    },
    {
      "cell_type": "code",
      "metadata": {
        "id": "8Fbh5P2FmZDV",
        "colab_type": "code",
        "colab": {}
      },
      "source": [
        "#Vertical and horizontal bar charts\n",
        "\n",
        "df_india = df_can.loc['India',years]\n",
        "df_india.plot(kind='bar', figsize=(10,6))\n",
        "plt.title(\"Indian immigration to Canada from 1980 to 2013\")\n",
        "plt.xlabel(\"Year\")\n",
        "plt.ylabel(\"Number of immigrants\")\n",
        "\n",
        "plt.annotate('',  #arrow title\n",
        "             xy=(21,35000), #x,y of arrow head\n",
        "             xytext=(7,15000), #x, y of arrow tail\n",
        "             xycoords='data',  #keep unchanged\n",
        "             arrowprops=dict(arrowstyle='->',color='red') #arrow style with color\n",
        "             )\n",
        "\n",
        "plt.annotate('IT Boom', #add text to arrow\n",
        "             xy=(13,28000),  #x, y of text position\n",
        "             rotation=40, # counter clockwise rotate text by angle\n",
        "             xycoords='data', #keep unchanged\n",
        "             va='top', #position text \n",
        "             ha='left') #position text\n",
        "plt.show()"
      ],
      "execution_count": null,
      "outputs": []
    },
    {
      "cell_type": "code",
      "metadata": {
        "id": "WnkwLpxojnho",
        "colab_type": "code",
        "colab": {}
      },
      "source": [
        ""
      ],
      "execution_count": null,
      "outputs": []
    }
  ]
}