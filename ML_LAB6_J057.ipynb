{
  "nbformat": 4,
  "nbformat_minor": 0,
  "metadata": {
    "colab": {
      "name": "ML_LAB6_J057.ipynb",
      "provenance": [],
      "include_colab_link": true
    },
    "kernelspec": {
      "name": "python3",
      "display_name": "Python 3"
    }
  },
  "cells": [
    {
      "cell_type": "markdown",
      "metadata": {
        "id": "view-in-github",
        "colab_type": "text"
      },
      "source": [
        "<a href=\"https://colab.research.google.com/github/advait-t/Machine-Learning/blob/master/ML_LAB6_J057.ipynb\" target=\"_parent\"><img src=\"https://colab.research.google.com/assets/colab-badge.svg\" alt=\"Open In Colab\"/></a>"
      ]
    },
    {
      "cell_type": "code",
      "metadata": {
        "id": "03a6Hqa4CQYT",
        "colab_type": "code",
        "colab": {
          "base_uri": "https://localhost:8080/",
          "height": 71
        },
        "outputId": "737d9235-d59f-4dba-d6da-cc247c754aae"
      },
      "source": [
        "import numpy as np\n",
        "import pandas as pd\n",
        "\n",
        "import matplotlib.pyplot as plt\n",
        "import seaborn as sns\n",
        "\n",
        "from sklearn.model_selection import train_test_split, cross_val_score\n",
        "from sklearn.preprocessing import StandardScaler\n",
        "\n",
        "from sklearn import linear_model\n",
        "from sklearn.model_selection import GridSearchCV, RandomizedSearchCV\n",
        "\n",
        "import warnings\n",
        "warnings.filterwarnings('ignore')\n"
      ],
      "execution_count": 1,
      "outputs": [
        {
          "output_type": "stream",
          "text": [
            "/usr/local/lib/python3.6/dist-packages/statsmodels/tools/_testing.py:19: FutureWarning: pandas.util.testing is deprecated. Use the functions in the public API at pandas.testing instead.\n",
            "  import pandas.util.testing as tm\n"
          ],
          "name": "stderr"
        }
      ]
    },
    {
      "cell_type": "code",
      "metadata": {
        "id": "ZlmWrquyCln7",
        "colab_type": "code",
        "colab": {
          "base_uri": "https://localhost:8080/",
          "height": 578
        },
        "outputId": "076cd9c1-9493-47c8-8880-f457409b5359"
      },
      "source": [
        "!wget -O 2011gcn.csv https://raw.githubusercontent.com/pranavn91/blockchain/master/2011gcn.csv\n",
        "!wget -O tx2011partvertices_new.csv https://raw.githubusercontent.com/pranavn91/blockchain/master/tx2011partvertices_new.csv\n",
        "!wget -O tx2011partvertices.csv https://raw.githubusercontent.com/pranavn91/blockchain/master/tx2011partvertices.csv"
      ],
      "execution_count": 2,
      "outputs": [
        {
          "output_type": "stream",
          "text": [
            "--2020-08-30 18:58:26--  https://raw.githubusercontent.com/pranavn91/blockchain/master/2011gcn.csv\n",
            "Resolving raw.githubusercontent.com (raw.githubusercontent.com)... 151.101.0.133, 151.101.64.133, 151.101.128.133, ...\n",
            "Connecting to raw.githubusercontent.com (raw.githubusercontent.com)|151.101.0.133|:443... connected.\n",
            "HTTP request sent, awaiting response... 200 OK\n",
            "Length: 12563086 (12M) [text/plain]\n",
            "Saving to: ‘2011gcn.csv’\n",
            "\n",
            "2011gcn.csv         100%[===================>]  11.98M  22.2MB/s    in 0.5s    \n",
            "\n",
            "2020-08-30 18:58:30 (22.2 MB/s) - ‘2011gcn.csv’ saved [12563086/12563086]\n",
            "\n",
            "--2020-08-30 18:58:30--  https://raw.githubusercontent.com/pranavn91/blockchain/master/tx2011partvertices_new.csv\n",
            "Resolving raw.githubusercontent.com (raw.githubusercontent.com)... 151.101.0.133, 151.101.64.133, 151.101.128.133, ...\n",
            "Connecting to raw.githubusercontent.com (raw.githubusercontent.com)|151.101.0.133|:443... connected.\n",
            "HTTP request sent, awaiting response... 200 OK\n",
            "Length: 12501458 (12M) [text/plain]\n",
            "Saving to: ‘tx2011partvertices_new.csv’\n",
            "\n",
            "tx2011partvertices_ 100%[===================>]  11.92M  21.3MB/s    in 0.6s    \n",
            "\n",
            "2020-08-30 18:58:33 (21.3 MB/s) - ‘tx2011partvertices_new.csv’ saved [12501458/12501458]\n",
            "\n",
            "--2020-08-30 18:58:33--  https://raw.githubusercontent.com/pranavn91/blockchain/master/tx2011partvertices.csv\n",
            "Resolving raw.githubusercontent.com (raw.githubusercontent.com)... 151.101.0.133, 151.101.64.133, 151.101.128.133, ...\n",
            "Connecting to raw.githubusercontent.com (raw.githubusercontent.com)|151.101.0.133|:443... connected.\n",
            "HTTP request sent, awaiting response... 200 OK\n",
            "Length: 1934257 (1.8M) [text/plain]\n",
            "Saving to: ‘tx2011partvertices.csv’\n",
            "\n",
            "tx2011partvertices. 100%[===================>]   1.84M  --.-KB/s    in 0.1s    \n",
            "\n",
            "2020-08-30 18:58:34 (13.2 MB/s) - ‘tx2011partvertices.csv’ saved [1934257/1934257]\n",
            "\n"
          ],
          "name": "stdout"
        }
      ]
    },
    {
      "cell_type": "code",
      "metadata": {
        "id": "KIt0wY7DCtFw",
        "colab_type": "code",
        "colab": {}
      },
      "source": [
        "train1 = pd.read_csv('2011gcn.csv')\n",
        "train2 = pd.read_csv('tx2011partvertices_new.csv')\n",
        "train3 = pd.read_csv('tx2011partvertices.csv')"
      ],
      "execution_count": 3,
      "outputs": []
    },
    {
      "cell_type": "code",
      "metadata": {
        "id": "yrPkFADjCwvq",
        "colab_type": "code",
        "colab": {
          "base_uri": "https://localhost:8080/",
          "height": 68
        },
        "outputId": "a784fce3-e467-4457-9c5e-d0a83e48f3b5"
      },
      "source": [
        "print('Train 1 Shape: ', train1.shape)\n",
        "print('Train 2 Shape: ', train2.shape)\n",
        "print('Train 3 Shape: ', train3.shape)"
      ],
      "execution_count": 4,
      "outputs": [
        {
          "output_type": "stream",
          "text": [
            "Train 1 Shape:  (96498, 17)\n",
            "Train 2 Shape:  (96498, 20)\n",
            "Train 3 Shape:  (96498, 2)\n"
          ],
          "name": "stdout"
        }
      ]
    },
    {
      "cell_type": "code",
      "metadata": {
        "id": "FZTYZ9DTC3t2",
        "colab_type": "code",
        "colab": {
          "base_uri": "https://localhost:8080/",
          "height": 187
        },
        "outputId": "0e28db5f-c2c8-471f-d563-5a3b7012b033"
      },
      "source": [
        "print('Train 1 Column Names', train1.columns)\n",
        "print('Train 2 Column Names',train2.columns)\n",
        "print('Train 3 Column Names',train3.columns)"
      ],
      "execution_count": 5,
      "outputs": [
        {
          "output_type": "stream",
          "text": [
            "Train 1 Column Names Index(['Unnamed: 0', '0', '1', '2', '3', '4', '5', '6', '7', '8', '9', '10',\n",
            "       '11', '12', '13', '14', '15'],\n",
            "      dtype='object')\n",
            "Train 2 Column Names Index(['Unnamed: 0', 'txsize', 'txvirtualsize', 'txinputs_count',\n",
            "       'txoutputs_count', 'txinput_val', 'txoutput_val', 'txfee',\n",
            "       'Min_received', 'Max_received', 'Avg_received', 'Total_received',\n",
            "       'Stdev_received', 'Var_received', 'Min_sent', 'Max_sent', 'Avg_sent',\n",
            "       'Total_sent', 'Stdev_sent', 'Var_sent'],\n",
            "      dtype='object')\n",
            "Train 3 Column Names Index(['Unnamed: 0', 'label'], dtype='object')\n"
          ],
          "name": "stdout"
        }
      ]
    },
    {
      "cell_type": "code",
      "metadata": {
        "id": "TMDzSPWDDTun",
        "colab_type": "code",
        "colab": {
          "base_uri": "https://localhost:8080/",
          "height": 204
        },
        "outputId": "1e26fac1-a47e-4c42-d39c-43e6422e1598"
      },
      "source": [
        "train1.head()"
      ],
      "execution_count": 6,
      "outputs": [
        {
          "output_type": "execute_result",
          "data": {
            "text/html": [
              "<div>\n",
              "<style scoped>\n",
              "    .dataframe tbody tr th:only-of-type {\n",
              "        vertical-align: middle;\n",
              "    }\n",
              "\n",
              "    .dataframe tbody tr th {\n",
              "        vertical-align: top;\n",
              "    }\n",
              "\n",
              "    .dataframe thead th {\n",
              "        text-align: right;\n",
              "    }\n",
              "</style>\n",
              "<table border=\"1\" class=\"dataframe\">\n",
              "  <thead>\n",
              "    <tr style=\"text-align: right;\">\n",
              "      <th></th>\n",
              "      <th>Unnamed: 0</th>\n",
              "      <th>0</th>\n",
              "      <th>1</th>\n",
              "      <th>2</th>\n",
              "      <th>3</th>\n",
              "      <th>4</th>\n",
              "      <th>5</th>\n",
              "      <th>6</th>\n",
              "      <th>7</th>\n",
              "      <th>8</th>\n",
              "      <th>9</th>\n",
              "      <th>10</th>\n",
              "      <th>11</th>\n",
              "      <th>12</th>\n",
              "      <th>13</th>\n",
              "      <th>14</th>\n",
              "      <th>15</th>\n",
              "    </tr>\n",
              "  </thead>\n",
              "  <tbody>\n",
              "    <tr>\n",
              "      <th>0</th>\n",
              "      <td>0</td>\n",
              "      <td>0.0</td>\n",
              "      <td>4.811244e+07</td>\n",
              "      <td>0.0</td>\n",
              "      <td>0.0</td>\n",
              "      <td>5.298934e+07</td>\n",
              "      <td>0.0</td>\n",
              "      <td>5.215435e+07</td>\n",
              "      <td>0.0</td>\n",
              "      <td>0.0</td>\n",
              "      <td>4.293262e+05</td>\n",
              "      <td>3.994267e+07</td>\n",
              "      <td>6.251989e+07</td>\n",
              "      <td>0.0</td>\n",
              "      <td>0.0</td>\n",
              "      <td>2.670458e+07</td>\n",
              "      <td>8.313858e+07</td>\n",
              "    </tr>\n",
              "    <tr>\n",
              "      <th>1</th>\n",
              "      <td>1</td>\n",
              "      <td>0.0</td>\n",
              "      <td>3.477977e+05</td>\n",
              "      <td>0.0</td>\n",
              "      <td>0.0</td>\n",
              "      <td>3.777575e+05</td>\n",
              "      <td>0.0</td>\n",
              "      <td>3.757520e+05</td>\n",
              "      <td>0.0</td>\n",
              "      <td>0.0</td>\n",
              "      <td>6.889133e+03</td>\n",
              "      <td>3.001618e+05</td>\n",
              "      <td>4.527358e+05</td>\n",
              "      <td>0.0</td>\n",
              "      <td>0.0</td>\n",
              "      <td>1.915057e+05</td>\n",
              "      <td>6.009039e+05</td>\n",
              "    </tr>\n",
              "    <tr>\n",
              "      <th>2</th>\n",
              "      <td>2</td>\n",
              "      <td>0.0</td>\n",
              "      <td>6.455196e+07</td>\n",
              "      <td>0.0</td>\n",
              "      <td>0.0</td>\n",
              "      <td>7.110790e+07</td>\n",
              "      <td>0.0</td>\n",
              "      <td>6.997804e+07</td>\n",
              "      <td>0.0</td>\n",
              "      <td>0.0</td>\n",
              "      <td>5.670157e+05</td>\n",
              "      <td>5.356332e+07</td>\n",
              "      <td>8.388026e+07</td>\n",
              "      <td>0.0</td>\n",
              "      <td>0.0</td>\n",
              "      <td>3.583296e+07</td>\n",
              "      <td>1.115463e+08</td>\n",
              "    </tr>\n",
              "    <tr>\n",
              "      <th>3</th>\n",
              "      <td>3</td>\n",
              "      <td>0.0</td>\n",
              "      <td>2.009876e+08</td>\n",
              "      <td>0.0</td>\n",
              "      <td>0.0</td>\n",
              "      <td>2.214679e+08</td>\n",
              "      <td>0.0</td>\n",
              "      <td>2.174101e+08</td>\n",
              "      <td>0.0</td>\n",
              "      <td>0.0</td>\n",
              "      <td>1.342720e+06</td>\n",
              "      <td>1.665389e+08</td>\n",
              "      <td>2.614420e+08</td>\n",
              "      <td>0.0</td>\n",
              "      <td>0.0</td>\n",
              "      <td>1.116514e+08</td>\n",
              "      <td>3.472892e+08</td>\n",
              "    </tr>\n",
              "    <tr>\n",
              "      <th>4</th>\n",
              "      <td>4</td>\n",
              "      <td>0.0</td>\n",
              "      <td>2.384675e+05</td>\n",
              "      <td>0.0</td>\n",
              "      <td>0.0</td>\n",
              "      <td>2.597246e+05</td>\n",
              "      <td>0.0</td>\n",
              "      <td>2.577884e+05</td>\n",
              "      <td>0.0</td>\n",
              "      <td>0.0</td>\n",
              "      <td>4.202993e+03</td>\n",
              "      <td>2.042845e+05</td>\n",
              "      <td>3.103489e+05</td>\n",
              "      <td>0.0</td>\n",
              "      <td>0.0</td>\n",
              "      <td>1.315073e+05</td>\n",
              "      <td>4.120424e+05</td>\n",
              "    </tr>\n",
              "  </tbody>\n",
              "</table>\n",
              "</div>"
            ],
            "text/plain": [
              "   Unnamed: 0    0             1    2  ...   12   13            14            15\n",
              "0           0  0.0  4.811244e+07  0.0  ...  0.0  0.0  2.670458e+07  8.313858e+07\n",
              "1           1  0.0  3.477977e+05  0.0  ...  0.0  0.0  1.915057e+05  6.009039e+05\n",
              "2           2  0.0  6.455196e+07  0.0  ...  0.0  0.0  3.583296e+07  1.115463e+08\n",
              "3           3  0.0  2.009876e+08  0.0  ...  0.0  0.0  1.116514e+08  3.472892e+08\n",
              "4           4  0.0  2.384675e+05  0.0  ...  0.0  0.0  1.315073e+05  4.120424e+05\n",
              "\n",
              "[5 rows x 17 columns]"
            ]
          },
          "metadata": {
            "tags": []
          },
          "execution_count": 6
        }
      ]
    },
    {
      "cell_type": "code",
      "metadata": {
        "id": "Y73JrVOyDtOx",
        "colab_type": "code",
        "colab": {
          "base_uri": "https://localhost:8080/",
          "height": 204
        },
        "outputId": "f9b2cc50-0062-4bcf-c018-e4b5844da2b3"
      },
      "source": [
        "train1.rename(columns={'Unnamed: 0':'index'}, inplace=True)\n",
        "train1['index'] = train1['index'] + 1\n",
        "train1.head()"
      ],
      "execution_count": 7,
      "outputs": [
        {
          "output_type": "execute_result",
          "data": {
            "text/html": [
              "<div>\n",
              "<style scoped>\n",
              "    .dataframe tbody tr th:only-of-type {\n",
              "        vertical-align: middle;\n",
              "    }\n",
              "\n",
              "    .dataframe tbody tr th {\n",
              "        vertical-align: top;\n",
              "    }\n",
              "\n",
              "    .dataframe thead th {\n",
              "        text-align: right;\n",
              "    }\n",
              "</style>\n",
              "<table border=\"1\" class=\"dataframe\">\n",
              "  <thead>\n",
              "    <tr style=\"text-align: right;\">\n",
              "      <th></th>\n",
              "      <th>index</th>\n",
              "      <th>0</th>\n",
              "      <th>1</th>\n",
              "      <th>2</th>\n",
              "      <th>3</th>\n",
              "      <th>4</th>\n",
              "      <th>5</th>\n",
              "      <th>6</th>\n",
              "      <th>7</th>\n",
              "      <th>8</th>\n",
              "      <th>9</th>\n",
              "      <th>10</th>\n",
              "      <th>11</th>\n",
              "      <th>12</th>\n",
              "      <th>13</th>\n",
              "      <th>14</th>\n",
              "      <th>15</th>\n",
              "    </tr>\n",
              "  </thead>\n",
              "  <tbody>\n",
              "    <tr>\n",
              "      <th>0</th>\n",
              "      <td>1</td>\n",
              "      <td>0.0</td>\n",
              "      <td>4.811244e+07</td>\n",
              "      <td>0.0</td>\n",
              "      <td>0.0</td>\n",
              "      <td>5.298934e+07</td>\n",
              "      <td>0.0</td>\n",
              "      <td>5.215435e+07</td>\n",
              "      <td>0.0</td>\n",
              "      <td>0.0</td>\n",
              "      <td>4.293262e+05</td>\n",
              "      <td>3.994267e+07</td>\n",
              "      <td>6.251989e+07</td>\n",
              "      <td>0.0</td>\n",
              "      <td>0.0</td>\n",
              "      <td>2.670458e+07</td>\n",
              "      <td>8.313858e+07</td>\n",
              "    </tr>\n",
              "    <tr>\n",
              "      <th>1</th>\n",
              "      <td>2</td>\n",
              "      <td>0.0</td>\n",
              "      <td>3.477977e+05</td>\n",
              "      <td>0.0</td>\n",
              "      <td>0.0</td>\n",
              "      <td>3.777575e+05</td>\n",
              "      <td>0.0</td>\n",
              "      <td>3.757520e+05</td>\n",
              "      <td>0.0</td>\n",
              "      <td>0.0</td>\n",
              "      <td>6.889133e+03</td>\n",
              "      <td>3.001618e+05</td>\n",
              "      <td>4.527358e+05</td>\n",
              "      <td>0.0</td>\n",
              "      <td>0.0</td>\n",
              "      <td>1.915057e+05</td>\n",
              "      <td>6.009039e+05</td>\n",
              "    </tr>\n",
              "    <tr>\n",
              "      <th>2</th>\n",
              "      <td>3</td>\n",
              "      <td>0.0</td>\n",
              "      <td>6.455196e+07</td>\n",
              "      <td>0.0</td>\n",
              "      <td>0.0</td>\n",
              "      <td>7.110790e+07</td>\n",
              "      <td>0.0</td>\n",
              "      <td>6.997804e+07</td>\n",
              "      <td>0.0</td>\n",
              "      <td>0.0</td>\n",
              "      <td>5.670157e+05</td>\n",
              "      <td>5.356332e+07</td>\n",
              "      <td>8.388026e+07</td>\n",
              "      <td>0.0</td>\n",
              "      <td>0.0</td>\n",
              "      <td>3.583296e+07</td>\n",
              "      <td>1.115463e+08</td>\n",
              "    </tr>\n",
              "    <tr>\n",
              "      <th>3</th>\n",
              "      <td>4</td>\n",
              "      <td>0.0</td>\n",
              "      <td>2.009876e+08</td>\n",
              "      <td>0.0</td>\n",
              "      <td>0.0</td>\n",
              "      <td>2.214679e+08</td>\n",
              "      <td>0.0</td>\n",
              "      <td>2.174101e+08</td>\n",
              "      <td>0.0</td>\n",
              "      <td>0.0</td>\n",
              "      <td>1.342720e+06</td>\n",
              "      <td>1.665389e+08</td>\n",
              "      <td>2.614420e+08</td>\n",
              "      <td>0.0</td>\n",
              "      <td>0.0</td>\n",
              "      <td>1.116514e+08</td>\n",
              "      <td>3.472892e+08</td>\n",
              "    </tr>\n",
              "    <tr>\n",
              "      <th>4</th>\n",
              "      <td>5</td>\n",
              "      <td>0.0</td>\n",
              "      <td>2.384675e+05</td>\n",
              "      <td>0.0</td>\n",
              "      <td>0.0</td>\n",
              "      <td>2.597246e+05</td>\n",
              "      <td>0.0</td>\n",
              "      <td>2.577884e+05</td>\n",
              "      <td>0.0</td>\n",
              "      <td>0.0</td>\n",
              "      <td>4.202993e+03</td>\n",
              "      <td>2.042845e+05</td>\n",
              "      <td>3.103489e+05</td>\n",
              "      <td>0.0</td>\n",
              "      <td>0.0</td>\n",
              "      <td>1.315073e+05</td>\n",
              "      <td>4.120424e+05</td>\n",
              "    </tr>\n",
              "  </tbody>\n",
              "</table>\n",
              "</div>"
            ],
            "text/plain": [
              "   index    0             1    2  ...   12   13            14            15\n",
              "0      1  0.0  4.811244e+07  0.0  ...  0.0  0.0  2.670458e+07  8.313858e+07\n",
              "1      2  0.0  3.477977e+05  0.0  ...  0.0  0.0  1.915057e+05  6.009039e+05\n",
              "2      3  0.0  6.455196e+07  0.0  ...  0.0  0.0  3.583296e+07  1.115463e+08\n",
              "3      4  0.0  2.009876e+08  0.0  ...  0.0  0.0  1.116514e+08  3.472892e+08\n",
              "4      5  0.0  2.384675e+05  0.0  ...  0.0  0.0  1.315073e+05  4.120424e+05\n",
              "\n",
              "[5 rows x 17 columns]"
            ]
          },
          "metadata": {
            "tags": []
          },
          "execution_count": 7
        }
      ]
    },
    {
      "cell_type": "code",
      "metadata": {
        "id": "Ngcw_F4zD4Rh",
        "colab_type": "code",
        "colab": {
          "base_uri": "https://localhost:8080/",
          "height": 224
        },
        "outputId": "af21d4be-a0a8-4f61-a0ff-ba71bf045bcf"
      },
      "source": [
        "train2.rename(columns={'Unnamed: 0':'index'}, inplace=True)\n",
        "train2.head() "
      ],
      "execution_count": 8,
      "outputs": [
        {
          "output_type": "execute_result",
          "data": {
            "text/html": [
              "<div>\n",
              "<style scoped>\n",
              "    .dataframe tbody tr th:only-of-type {\n",
              "        vertical-align: middle;\n",
              "    }\n",
              "\n",
              "    .dataframe tbody tr th {\n",
              "        vertical-align: top;\n",
              "    }\n",
              "\n",
              "    .dataframe thead th {\n",
              "        text-align: right;\n",
              "    }\n",
              "</style>\n",
              "<table border=\"1\" class=\"dataframe\">\n",
              "  <thead>\n",
              "    <tr style=\"text-align: right;\">\n",
              "      <th></th>\n",
              "      <th>index</th>\n",
              "      <th>txsize</th>\n",
              "      <th>txvirtualsize</th>\n",
              "      <th>txinputs_count</th>\n",
              "      <th>txoutputs_count</th>\n",
              "      <th>txinput_val</th>\n",
              "      <th>txoutput_val</th>\n",
              "      <th>txfee</th>\n",
              "      <th>Min_received</th>\n",
              "      <th>Max_received</th>\n",
              "      <th>Avg_received</th>\n",
              "      <th>Total_received</th>\n",
              "      <th>Stdev_received</th>\n",
              "      <th>Var_received</th>\n",
              "      <th>Min_sent</th>\n",
              "      <th>Max_sent</th>\n",
              "      <th>Avg_sent</th>\n",
              "      <th>Total_sent</th>\n",
              "      <th>Stdev_sent</th>\n",
              "      <th>Var_sent</th>\n",
              "    </tr>\n",
              "  </thead>\n",
              "  <tbody>\n",
              "    <tr>\n",
              "      <th>0</th>\n",
              "      <td>1</td>\n",
              "      <td>7369</td>\n",
              "      <td>7369</td>\n",
              "      <td>5</td>\n",
              "      <td>190</td>\n",
              "      <td>215000000.0</td>\n",
              "      <td>214600000.0</td>\n",
              "      <td>400000</td>\n",
              "      <td>0.0005</td>\n",
              "      <td>1.0000</td>\n",
              "      <td>0.011295</td>\n",
              "      <td>2.1460</td>\n",
              "      <td>0.081163</td>\n",
              "      <td>0.006587</td>\n",
              "      <td>0.0005</td>\n",
              "      <td>1.6700</td>\n",
              "      <td>0.4300</td>\n",
              "      <td>2.1500</td>\n",
              "      <td>0.703445</td>\n",
              "      <td>0.494835</td>\n",
              "    </tr>\n",
              "    <tr>\n",
              "      <th>1</th>\n",
              "      <td>2</td>\n",
              "      <td>293</td>\n",
              "      <td>293</td>\n",
              "      <td>1</td>\n",
              "      <td>3</td>\n",
              "      <td>4400000.0</td>\n",
              "      <td>4350000.0</td>\n",
              "      <td>50000</td>\n",
              "      <td>0.0010</td>\n",
              "      <td>0.0415</td>\n",
              "      <td>0.014500</td>\n",
              "      <td>0.0435</td>\n",
              "      <td>0.023383</td>\n",
              "      <td>0.000547</td>\n",
              "      <td>0.0440</td>\n",
              "      <td>0.0440</td>\n",
              "      <td>0.0440</td>\n",
              "      <td>0.0440</td>\n",
              "      <td>0.000000</td>\n",
              "      <td>0.000000</td>\n",
              "    </tr>\n",
              "    <tr>\n",
              "      <th>2</th>\n",
              "      <td>3</td>\n",
              "      <td>11139</td>\n",
              "      <td>11139</td>\n",
              "      <td>1</td>\n",
              "      <td>322</td>\n",
              "      <td>125000000.0</td>\n",
              "      <td>124400000.0</td>\n",
              "      <td>600000</td>\n",
              "      <td>0.0010</td>\n",
              "      <td>0.4460</td>\n",
              "      <td>0.003863</td>\n",
              "      <td>1.2440</td>\n",
              "      <td>0.024941</td>\n",
              "      <td>0.000622</td>\n",
              "      <td>1.2500</td>\n",
              "      <td>1.2500</td>\n",
              "      <td>1.2500</td>\n",
              "      <td>1.2500</td>\n",
              "      <td>0.000000</td>\n",
              "      <td>0.000000</td>\n",
              "    </tr>\n",
              "    <tr>\n",
              "      <th>3</th>\n",
              "      <td>4</td>\n",
              "      <td>495</td>\n",
              "      <td>495</td>\n",
              "      <td>1</td>\n",
              "      <td>9</td>\n",
              "      <td>27450000.0</td>\n",
              "      <td>27400000.0</td>\n",
              "      <td>50000</td>\n",
              "      <td>0.0010</td>\n",
              "      <td>0.2660</td>\n",
              "      <td>0.030444</td>\n",
              "      <td>0.2740</td>\n",
              "      <td>0.088333</td>\n",
              "      <td>0.007803</td>\n",
              "      <td>0.2745</td>\n",
              "      <td>0.2745</td>\n",
              "      <td>0.2745</td>\n",
              "      <td>0.2745</td>\n",
              "      <td>0.000000</td>\n",
              "      <td>0.000000</td>\n",
              "    </tr>\n",
              "    <tr>\n",
              "      <th>4</th>\n",
              "      <td>5</td>\n",
              "      <td>462</td>\n",
              "      <td>462</td>\n",
              "      <td>1</td>\n",
              "      <td>8</td>\n",
              "      <td>3000000.0</td>\n",
              "      <td>2950000.0</td>\n",
              "      <td>50000</td>\n",
              "      <td>0.0010</td>\n",
              "      <td>0.0225</td>\n",
              "      <td>0.003687</td>\n",
              "      <td>0.0295</td>\n",
              "      <td>0.007601</td>\n",
              "      <td>0.000058</td>\n",
              "      <td>0.0300</td>\n",
              "      <td>0.0300</td>\n",
              "      <td>0.0300</td>\n",
              "      <td>0.0300</td>\n",
              "      <td>0.000000</td>\n",
              "      <td>0.000000</td>\n",
              "    </tr>\n",
              "  </tbody>\n",
              "</table>\n",
              "</div>"
            ],
            "text/plain": [
              "   index  txsize  txvirtualsize  ...  Total_sent  Stdev_sent  Var_sent\n",
              "0      1    7369           7369  ...      2.1500    0.703445  0.494835\n",
              "1      2     293            293  ...      0.0440    0.000000  0.000000\n",
              "2      3   11139          11139  ...      1.2500    0.000000  0.000000\n",
              "3      4     495            495  ...      0.2745    0.000000  0.000000\n",
              "4      5     462            462  ...      0.0300    0.000000  0.000000\n",
              "\n",
              "[5 rows x 20 columns]"
            ]
          },
          "metadata": {
            "tags": []
          },
          "execution_count": 8
        }
      ]
    },
    {
      "cell_type": "code",
      "metadata": {
        "id": "PEmeWhs8EHAa",
        "colab_type": "code",
        "colab": {
          "base_uri": "https://localhost:8080/",
          "height": 204
        },
        "outputId": "d8a56db4-65af-4296-c29c-e029830756ed"
      },
      "source": [
        "train3.rename(columns={'Unnamed: 0':'index'}, inplace=True)\n",
        "train3.head()"
      ],
      "execution_count": 9,
      "outputs": [
        {
          "output_type": "execute_result",
          "data": {
            "text/html": [
              "<div>\n",
              "<style scoped>\n",
              "    .dataframe tbody tr th:only-of-type {\n",
              "        vertical-align: middle;\n",
              "    }\n",
              "\n",
              "    .dataframe tbody tr th {\n",
              "        vertical-align: top;\n",
              "    }\n",
              "\n",
              "    .dataframe thead th {\n",
              "        text-align: right;\n",
              "    }\n",
              "</style>\n",
              "<table border=\"1\" class=\"dataframe\">\n",
              "  <thead>\n",
              "    <tr style=\"text-align: right;\">\n",
              "      <th></th>\n",
              "      <th>index</th>\n",
              "      <th>label</th>\n",
              "    </tr>\n",
              "  </thead>\n",
              "  <tbody>\n",
              "    <tr>\n",
              "      <th>0</th>\n",
              "      <td>1</td>\n",
              "      <td>unclassified</td>\n",
              "    </tr>\n",
              "    <tr>\n",
              "      <th>1</th>\n",
              "      <td>2</td>\n",
              "      <td>donations</td>\n",
              "    </tr>\n",
              "    <tr>\n",
              "      <th>2</th>\n",
              "      <td>3</td>\n",
              "      <td>unclassified</td>\n",
              "    </tr>\n",
              "    <tr>\n",
              "      <th>3</th>\n",
              "      <td>4</td>\n",
              "      <td>donations</td>\n",
              "    </tr>\n",
              "    <tr>\n",
              "      <th>4</th>\n",
              "      <td>5</td>\n",
              "      <td>donations</td>\n",
              "    </tr>\n",
              "  </tbody>\n",
              "</table>\n",
              "</div>"
            ],
            "text/plain": [
              "   index         label\n",
              "0      1  unclassified\n",
              "1      2     donations\n",
              "2      3  unclassified\n",
              "3      4     donations\n",
              "4      5     donations"
            ]
          },
          "metadata": {
            "tags": []
          },
          "execution_count": 9
        }
      ]
    },
    {
      "cell_type": "code",
      "metadata": {
        "id": "Z6u7WvEHELn5",
        "colab_type": "code",
        "colab": {
          "base_uri": "https://localhost:8080/",
          "height": 425
        },
        "outputId": "15795687-600c-4917-a8d3-3af2e54b439a"
      },
      "source": [
        "train1.info()"
      ],
      "execution_count": 10,
      "outputs": [
        {
          "output_type": "stream",
          "text": [
            "<class 'pandas.core.frame.DataFrame'>\n",
            "RangeIndex: 96498 entries, 0 to 96497\n",
            "Data columns (total 17 columns):\n",
            " #   Column  Non-Null Count  Dtype  \n",
            "---  ------  --------------  -----  \n",
            " 0   index   96498 non-null  int64  \n",
            " 1   0       96498 non-null  float64\n",
            " 2   1       96498 non-null  float64\n",
            " 3   2       96498 non-null  float64\n",
            " 4   3       96498 non-null  float64\n",
            " 5   4       96498 non-null  float64\n",
            " 6   5       96498 non-null  float64\n",
            " 7   6       96498 non-null  float64\n",
            " 8   7       96498 non-null  float64\n",
            " 9   8       96498 non-null  float64\n",
            " 10  9       96498 non-null  float64\n",
            " 11  10      96498 non-null  float64\n",
            " 12  11      96498 non-null  float64\n",
            " 13  12      96498 non-null  float64\n",
            " 14  13      96498 non-null  float64\n",
            " 15  14      96498 non-null  float64\n",
            " 16  15      96498 non-null  float64\n",
            "dtypes: float64(16), int64(1)\n",
            "memory usage: 12.5 MB\n"
          ],
          "name": "stdout"
        }
      ]
    },
    {
      "cell_type": "code",
      "metadata": {
        "id": "B2R5bC2AEZGR",
        "colab_type": "code",
        "colab": {
          "base_uri": "https://localhost:8080/",
          "height": 476
        },
        "outputId": "9e7a4c8b-6200-4c32-ef2e-27f0fed332a4"
      },
      "source": [
        "train2.info()"
      ],
      "execution_count": 11,
      "outputs": [
        {
          "output_type": "stream",
          "text": [
            "<class 'pandas.core.frame.DataFrame'>\n",
            "RangeIndex: 96498 entries, 0 to 96497\n",
            "Data columns (total 20 columns):\n",
            " #   Column           Non-Null Count  Dtype  \n",
            "---  ------           --------------  -----  \n",
            " 0   index            96498 non-null  int64  \n",
            " 1   txsize           96498 non-null  int64  \n",
            " 2   txvirtualsize    96498 non-null  int64  \n",
            " 3   txinputs_count   96498 non-null  int64  \n",
            " 4   txoutputs_count  96498 non-null  int64  \n",
            " 5   txinput_val      96498 non-null  float64\n",
            " 6   txoutput_val     96498 non-null  float64\n",
            " 7   txfee            96498 non-null  int64  \n",
            " 8   Min_received     96498 non-null  float64\n",
            " 9   Max_received     96498 non-null  float64\n",
            " 10  Avg_received     96498 non-null  float64\n",
            " 11  Total_received   96498 non-null  float64\n",
            " 12  Stdev_received   96498 non-null  float64\n",
            " 13  Var_received     96498 non-null  float64\n",
            " 14  Min_sent         96498 non-null  float64\n",
            " 15  Max_sent         96498 non-null  float64\n",
            " 16  Avg_sent         96498 non-null  float64\n",
            " 17  Total_sent       96498 non-null  float64\n",
            " 18  Stdev_sent       96498 non-null  float64\n",
            " 19  Var_sent         96498 non-null  float64\n",
            "dtypes: float64(14), int64(6)\n",
            "memory usage: 14.7 MB\n"
          ],
          "name": "stdout"
        }
      ]
    },
    {
      "cell_type": "code",
      "metadata": {
        "id": "pYBkZ5EkEbGa",
        "colab_type": "code",
        "colab": {
          "base_uri": "https://localhost:8080/",
          "height": 170
        },
        "outputId": "b53192df-9da2-45f3-f7f4-3b405904cbae"
      },
      "source": [
        "train3.info()"
      ],
      "execution_count": 12,
      "outputs": [
        {
          "output_type": "stream",
          "text": [
            "<class 'pandas.core.frame.DataFrame'>\n",
            "RangeIndex: 96498 entries, 0 to 96497\n",
            "Data columns (total 2 columns):\n",
            " #   Column  Non-Null Count  Dtype \n",
            "---  ------  --------------  ----- \n",
            " 0   index   96498 non-null  int64 \n",
            " 1   label   96498 non-null  object\n",
            "dtypes: int64(1), object(1)\n",
            "memory usage: 1.5+ MB\n"
          ],
          "name": "stdout"
        }
      ]
    },
    {
      "cell_type": "code",
      "metadata": {
        "id": "xewLBQRjEgj4",
        "colab_type": "code",
        "colab": {}
      },
      "source": [
        "final = pd.merge(train3, train1, on='index', how='inner')\n",
        "x = final.iloc[:,2:18]\n",
        "Y1 = final['label']"
      ],
      "execution_count": 13,
      "outputs": []
    },
    {
      "cell_type": "code",
      "metadata": {
        "id": "wPH1N_8zE-rJ",
        "colab_type": "code",
        "colab": {
          "base_uri": "https://localhost:8080/",
          "height": 170
        },
        "outputId": "554ff038-ad00-4427-e58a-3307f87a5ff5"
      },
      "source": [
        "from sklearn import preprocessing\n",
        "y = pd.get_dummies(Y1)\n",
        "print(x.head())\n",
        "print(y.shape)"
      ],
      "execution_count": 14,
      "outputs": [
        {
          "output_type": "stream",
          "text": [
            "     0             1    2    3  ...   12   13            14            15\n",
            "0  0.0  4.811244e+07  0.0  0.0  ...  0.0  0.0  2.670458e+07  8.313858e+07\n",
            "1  0.0  3.477977e+05  0.0  0.0  ...  0.0  0.0  1.915057e+05  6.009039e+05\n",
            "2  0.0  6.455196e+07  0.0  0.0  ...  0.0  0.0  3.583296e+07  1.115463e+08\n",
            "3  0.0  2.009876e+08  0.0  0.0  ...  0.0  0.0  1.116514e+08  3.472892e+08\n",
            "4  0.0  2.384675e+05  0.0  0.0  ...  0.0  0.0  1.315073e+05  4.120424e+05\n",
            "\n",
            "[5 rows x 16 columns]\n",
            "(96498, 6)\n"
          ],
          "name": "stdout"
        }
      ]
    },
    {
      "cell_type": "code",
      "metadata": {
        "id": "czA2X1AQFgw1",
        "colab_type": "code",
        "colab": {
          "base_uri": "https://localhost:8080/",
          "height": 119
        },
        "outputId": "1ee62d75-a77e-4605-9c64-d6b5865e411b"
      },
      "source": [
        "from sklearn.model_selection import train_test_split\n",
        "seed = 7\n",
        "x_train, x_test, y_train, y_test = train_test_split(x, y, test_size=0.4, random_state=seed)\n",
        "x_val, x_test, y_val, y_test = train_test_split(x_test, y_test, test_size= 0.5, random_state=seed)\n",
        "print(x_train.shape)\n",
        "print(x_val.shape)\n",
        "print(x_test.shape)\n",
        "print(y_train.shape)\n",
        "print(y_val.shape)\n",
        "print(y_test.shape)"
      ],
      "execution_count": 15,
      "outputs": [
        {
          "output_type": "stream",
          "text": [
            "(57898, 16)\n",
            "(19300, 16)\n",
            "(19300, 16)\n",
            "(57898, 6)\n",
            "(19300, 6)\n",
            "(19300, 6)\n"
          ],
          "name": "stdout"
        }
      ]
    },
    {
      "cell_type": "code",
      "metadata": {
        "id": "mDXVay3OFz8q",
        "colab_type": "code",
        "colab": {}
      },
      "source": [
        "from keras import models\n",
        "from keras import layers"
      ],
      "execution_count": 16,
      "outputs": []
    },
    {
      "cell_type": "code",
      "metadata": {
        "id": "vAHt-BGfGkIc",
        "colab_type": "code",
        "colab": {
          "base_uri": "https://localhost:8080/",
          "height": 255
        },
        "outputId": "2ac4c213-d038-43c5-a0ea-cc2aaed4e6cc"
      },
      "source": [
        "nn = models.Sequential()\n",
        "nn.add(layers.Dense(512, activation = \"relu\", input_shape = (16,)))\n",
        "nn.add(layers.Dense(128, activation = \"tanh\"))\n",
        "nn.add(layers.Dense(6, activation = \"softmax\"))\n",
        "nn.compile(optimizer = \"rmsprop\", loss = 'categorical_crossentropy', \n",
        "           metrics = ['accuracy'])\n",
        "nn.summary()"
      ],
      "execution_count": 17,
      "outputs": [
        {
          "output_type": "stream",
          "text": [
            "Model: \"sequential\"\n",
            "_________________________________________________________________\n",
            "Layer (type)                 Output Shape              Param #   \n",
            "=================================================================\n",
            "dense (Dense)                (None, 512)               8704      \n",
            "_________________________________________________________________\n",
            "dense_1 (Dense)              (None, 128)               65664     \n",
            "_________________________________________________________________\n",
            "dense_2 (Dense)              (None, 6)                 774       \n",
            "=================================================================\n",
            "Total params: 75,142\n",
            "Trainable params: 75,142\n",
            "Non-trainable params: 0\n",
            "_________________________________________________________________\n"
          ],
          "name": "stdout"
        }
      ]
    },
    {
      "cell_type": "code",
      "metadata": {
        "id": "meUaev6aIS3A",
        "colab_type": "code",
        "colab": {
          "base_uri": "https://localhost:8080/",
          "height": 1000
        },
        "outputId": "37e68c44-4b86-4c16-93ec-daff21891aef"
      },
      "source": [
        "hist = nn.fit(x_train,y_train,epochs=100,batch_size=256,validation_data = (x_val,y_val))"
      ],
      "execution_count": 18,
      "outputs": [
        {
          "output_type": "stream",
          "text": [
            "Epoch 1/100\n",
            "227/227 [==============================] - 1s 7ms/step - loss: 0.8531 - accuracy: 0.7635 - val_loss: 0.6361 - val_accuracy: 0.8347\n",
            "Epoch 2/100\n",
            "227/227 [==============================] - 1s 6ms/step - loss: 0.6071 - accuracy: 0.8354 - val_loss: 0.6200 - val_accuracy: 0.8381\n",
            "Epoch 3/100\n",
            "227/227 [==============================] - 1s 6ms/step - loss: 0.6038 - accuracy: 0.8386 - val_loss: 0.5964 - val_accuracy: 0.8398\n",
            "Epoch 4/100\n",
            "227/227 [==============================] - 1s 6ms/step - loss: 0.5803 - accuracy: 0.8457 - val_loss: 0.5813 - val_accuracy: 0.8468\n",
            "Epoch 5/100\n",
            "227/227 [==============================] - 1s 6ms/step - loss: 0.5779 - accuracy: 0.8497 - val_loss: 0.6122 - val_accuracy: 0.8367\n",
            "Epoch 6/100\n",
            "227/227 [==============================] - 1s 6ms/step - loss: 0.6153 - accuracy: 0.8345 - val_loss: 0.6209 - val_accuracy: 0.8369\n",
            "Epoch 7/100\n",
            "227/227 [==============================] - 1s 6ms/step - loss: 0.6137 - accuracy: 0.8357 - val_loss: 0.6139 - val_accuracy: 0.8366\n",
            "Epoch 8/100\n",
            "227/227 [==============================] - 1s 6ms/step - loss: 0.6135 - accuracy: 0.8365 - val_loss: 0.6157 - val_accuracy: 0.8377\n",
            "Epoch 9/100\n",
            "227/227 [==============================] - 1s 6ms/step - loss: 0.6124 - accuracy: 0.8388 - val_loss: 0.6153 - val_accuracy: 0.8440\n",
            "Epoch 10/100\n",
            "227/227 [==============================] - 1s 6ms/step - loss: 0.6116 - accuracy: 0.8408 - val_loss: 0.6155 - val_accuracy: 0.8442\n",
            "Epoch 11/100\n",
            "227/227 [==============================] - 1s 6ms/step - loss: 0.6117 - accuracy: 0.8420 - val_loss: 0.6193 - val_accuracy: 0.8436\n",
            "Epoch 12/100\n",
            "227/227 [==============================] - 1s 6ms/step - loss: 0.6111 - accuracy: 0.8423 - val_loss: 0.6133 - val_accuracy: 0.8440\n",
            "Epoch 13/100\n",
            "227/227 [==============================] - 1s 6ms/step - loss: 0.6106 - accuracy: 0.8422 - val_loss: 0.6142 - val_accuracy: 0.8439\n",
            "Epoch 14/100\n",
            "227/227 [==============================] - 1s 6ms/step - loss: 0.6106 - accuracy: 0.8422 - val_loss: 0.6131 - val_accuracy: 0.8444\n",
            "Epoch 15/100\n",
            "227/227 [==============================] - 1s 6ms/step - loss: 0.6101 - accuracy: 0.8423 - val_loss: 0.6200 - val_accuracy: 0.8441\n",
            "Epoch 16/100\n",
            "227/227 [==============================] - 1s 6ms/step - loss: 0.6103 - accuracy: 0.8423 - val_loss: 0.6147 - val_accuracy: 0.8439\n",
            "Epoch 17/100\n",
            "227/227 [==============================] - 1s 6ms/step - loss: 0.6100 - accuracy: 0.8422 - val_loss: 0.6105 - val_accuracy: 0.8443\n",
            "Epoch 18/100\n",
            "227/227 [==============================] - 1s 6ms/step - loss: 0.6099 - accuracy: 0.8422 - val_loss: 0.6142 - val_accuracy: 0.8441\n",
            "Epoch 19/100\n",
            "227/227 [==============================] - 1s 6ms/step - loss: 0.6099 - accuracy: 0.8423 - val_loss: 0.6166 - val_accuracy: 0.8443\n",
            "Epoch 20/100\n",
            "227/227 [==============================] - 1s 6ms/step - loss: 0.6095 - accuracy: 0.8423 - val_loss: 0.6253 - val_accuracy: 0.8436\n",
            "Epoch 21/100\n",
            "227/227 [==============================] - 1s 6ms/step - loss: 0.6092 - accuracy: 0.8424 - val_loss: 0.6177 - val_accuracy: 0.8438\n",
            "Epoch 22/100\n",
            "227/227 [==============================] - 1s 6ms/step - loss: 0.6092 - accuracy: 0.8424 - val_loss: 0.6148 - val_accuracy: 0.8437\n",
            "Epoch 23/100\n",
            "227/227 [==============================] - 1s 6ms/step - loss: 0.6090 - accuracy: 0.8423 - val_loss: 0.6113 - val_accuracy: 0.8439\n",
            "Epoch 24/100\n",
            "227/227 [==============================] - 1s 5ms/step - loss: 0.6091 - accuracy: 0.8423 - val_loss: 0.6140 - val_accuracy: 0.8437\n",
            "Epoch 25/100\n",
            "227/227 [==============================] - 1s 5ms/step - loss: 0.6091 - accuracy: 0.8422 - val_loss: 0.6296 - val_accuracy: 0.8438\n",
            "Epoch 26/100\n",
            "227/227 [==============================] - 1s 6ms/step - loss: 0.6091 - accuracy: 0.8425 - val_loss: 0.6218 - val_accuracy: 0.8441\n",
            "Epoch 27/100\n",
            "227/227 [==============================] - 1s 6ms/step - loss: 0.6089 - accuracy: 0.8423 - val_loss: 0.6102 - val_accuracy: 0.8443\n",
            "Epoch 28/100\n",
            "227/227 [==============================] - 1s 5ms/step - loss: 0.6092 - accuracy: 0.8425 - val_loss: 0.6104 - val_accuracy: 0.8438\n",
            "Epoch 29/100\n",
            "227/227 [==============================] - 1s 6ms/step - loss: 0.6091 - accuracy: 0.8424 - val_loss: 0.6162 - val_accuracy: 0.8438\n",
            "Epoch 30/100\n",
            "227/227 [==============================] - 1s 6ms/step - loss: 0.6090 - accuracy: 0.8425 - val_loss: 0.6167 - val_accuracy: 0.8440\n",
            "Epoch 31/100\n",
            "227/227 [==============================] - 1s 6ms/step - loss: 0.6089 - accuracy: 0.8425 - val_loss: 0.6096 - val_accuracy: 0.8445\n",
            "Epoch 32/100\n",
            "227/227 [==============================] - 1s 6ms/step - loss: 0.6092 - accuracy: 0.8424 - val_loss: 0.6098 - val_accuracy: 0.8441\n",
            "Epoch 33/100\n",
            "227/227 [==============================] - 1s 6ms/step - loss: 0.6086 - accuracy: 0.8425 - val_loss: 0.6164 - val_accuracy: 0.8438\n",
            "Epoch 34/100\n",
            "227/227 [==============================] - 1s 6ms/step - loss: 0.6086 - accuracy: 0.8424 - val_loss: 0.6220 - val_accuracy: 0.8439\n",
            "Epoch 35/100\n",
            "227/227 [==============================] - 1s 5ms/step - loss: 0.6087 - accuracy: 0.8426 - val_loss: 0.6143 - val_accuracy: 0.8446\n",
            "Epoch 36/100\n",
            "227/227 [==============================] - 1s 6ms/step - loss: 0.6089 - accuracy: 0.8427 - val_loss: 0.6191 - val_accuracy: 0.8443\n",
            "Epoch 37/100\n",
            "227/227 [==============================] - 1s 6ms/step - loss: 0.6088 - accuracy: 0.8425 - val_loss: 0.6129 - val_accuracy: 0.8444\n",
            "Epoch 38/100\n",
            "227/227 [==============================] - 1s 5ms/step - loss: 0.6087 - accuracy: 0.8425 - val_loss: 0.6157 - val_accuracy: 0.8439\n",
            "Epoch 39/100\n",
            "227/227 [==============================] - 1s 5ms/step - loss: 0.6083 - accuracy: 0.8428 - val_loss: 0.6124 - val_accuracy: 0.8438\n",
            "Epoch 40/100\n",
            "227/227 [==============================] - 1s 5ms/step - loss: 0.6086 - accuracy: 0.8427 - val_loss: 0.6135 - val_accuracy: 0.8442\n",
            "Epoch 41/100\n",
            "227/227 [==============================] - 1s 6ms/step - loss: 0.6085 - accuracy: 0.8429 - val_loss: 0.6210 - val_accuracy: 0.8446\n",
            "Epoch 42/100\n",
            "227/227 [==============================] - 1s 6ms/step - loss: 0.6084 - accuracy: 0.8429 - val_loss: 0.6238 - val_accuracy: 0.8439\n",
            "Epoch 43/100\n",
            "227/227 [==============================] - 1s 6ms/step - loss: 0.6085 - accuracy: 0.8429 - val_loss: 0.6182 - val_accuracy: 0.8444\n",
            "Epoch 44/100\n",
            "227/227 [==============================] - 1s 5ms/step - loss: 0.6086 - accuracy: 0.8428 - val_loss: 0.6197 - val_accuracy: 0.8439\n",
            "Epoch 45/100\n",
            "227/227 [==============================] - 1s 6ms/step - loss: 0.6081 - accuracy: 0.8430 - val_loss: 0.6244 - val_accuracy: 0.8444\n",
            "Epoch 46/100\n",
            "227/227 [==============================] - 1s 6ms/step - loss: 0.6089 - accuracy: 0.8430 - val_loss: 0.6154 - val_accuracy: 0.8444\n",
            "Epoch 47/100\n",
            "227/227 [==============================] - 1s 5ms/step - loss: 0.6080 - accuracy: 0.8429 - val_loss: 0.6166 - val_accuracy: 0.8446\n",
            "Epoch 48/100\n",
            "227/227 [==============================] - 1s 5ms/step - loss: 0.6083 - accuracy: 0.8428 - val_loss: 0.6226 - val_accuracy: 0.8446\n",
            "Epoch 49/100\n",
            "227/227 [==============================] - 1s 5ms/step - loss: 0.6087 - accuracy: 0.8432 - val_loss: 0.6199 - val_accuracy: 0.8445\n",
            "Epoch 50/100\n",
            "227/227 [==============================] - 1s 6ms/step - loss: 0.6082 - accuracy: 0.8431 - val_loss: 0.6141 - val_accuracy: 0.8446\n",
            "Epoch 51/100\n",
            "227/227 [==============================] - 1s 6ms/step - loss: 0.6083 - accuracy: 0.8431 - val_loss: 0.6088 - val_accuracy: 0.8444\n",
            "Epoch 52/100\n",
            "227/227 [==============================] - 1s 6ms/step - loss: 0.6081 - accuracy: 0.8431 - val_loss: 0.6170 - val_accuracy: 0.8447\n",
            "Epoch 53/100\n",
            "227/227 [==============================] - 1s 6ms/step - loss: 0.6082 - accuracy: 0.8431 - val_loss: 0.6117 - val_accuracy: 0.8446\n",
            "Epoch 54/100\n",
            "227/227 [==============================] - 1s 6ms/step - loss: 0.6084 - accuracy: 0.8431 - val_loss: 0.6134 - val_accuracy: 0.8446\n",
            "Epoch 55/100\n",
            "227/227 [==============================] - 1s 6ms/step - loss: 0.6083 - accuracy: 0.8431 - val_loss: 0.6135 - val_accuracy: 0.8445\n",
            "Epoch 56/100\n",
            "227/227 [==============================] - 1s 6ms/step - loss: 0.6079 - accuracy: 0.8431 - val_loss: 0.6153 - val_accuracy: 0.8445\n",
            "Epoch 57/100\n",
            "227/227 [==============================] - 1s 6ms/step - loss: 0.6077 - accuracy: 0.8432 - val_loss: 0.6086 - val_accuracy: 0.8447\n",
            "Epoch 58/100\n",
            "227/227 [==============================] - 1s 6ms/step - loss: 0.6079 - accuracy: 0.8432 - val_loss: 0.6094 - val_accuracy: 0.8445\n",
            "Epoch 59/100\n",
            "227/227 [==============================] - 1s 6ms/step - loss: 0.6083 - accuracy: 0.8432 - val_loss: 0.6192 - val_accuracy: 0.8443\n",
            "Epoch 60/100\n",
            "227/227 [==============================] - 1s 5ms/step - loss: 0.6080 - accuracy: 0.8430 - val_loss: 0.6270 - val_accuracy: 0.8447\n",
            "Epoch 61/100\n",
            "227/227 [==============================] - 1s 5ms/step - loss: 0.6082 - accuracy: 0.8432 - val_loss: 0.6105 - val_accuracy: 0.8447\n",
            "Epoch 62/100\n",
            "227/227 [==============================] - 1s 6ms/step - loss: 0.6082 - accuracy: 0.8432 - val_loss: 0.6102 - val_accuracy: 0.8447\n",
            "Epoch 63/100\n",
            "227/227 [==============================] - 1s 5ms/step - loss: 0.6077 - accuracy: 0.8432 - val_loss: 0.6099 - val_accuracy: 0.8447\n",
            "Epoch 64/100\n",
            "227/227 [==============================] - 1s 5ms/step - loss: 0.6077 - accuracy: 0.8432 - val_loss: 0.6268 - val_accuracy: 0.8444\n",
            "Epoch 65/100\n",
            "227/227 [==============================] - 1s 6ms/step - loss: 0.6080 - accuracy: 0.8432 - val_loss: 0.6354 - val_accuracy: 0.8445\n",
            "Epoch 66/100\n",
            "227/227 [==============================] - 1s 6ms/step - loss: 0.6079 - accuracy: 0.8432 - val_loss: 0.6136 - val_accuracy: 0.8447\n",
            "Epoch 67/100\n",
            "227/227 [==============================] - 1s 6ms/step - loss: 0.6079 - accuracy: 0.8432 - val_loss: 0.6123 - val_accuracy: 0.8447\n",
            "Epoch 68/100\n",
            "227/227 [==============================] - 1s 6ms/step - loss: 0.6078 - accuracy: 0.8433 - val_loss: 0.6105 - val_accuracy: 0.8447\n",
            "Epoch 69/100\n",
            "227/227 [==============================] - 1s 6ms/step - loss: 0.6079 - accuracy: 0.8432 - val_loss: 0.6256 - val_accuracy: 0.8445\n",
            "Epoch 70/100\n",
            "227/227 [==============================] - 1s 6ms/step - loss: 0.6077 - accuracy: 0.8432 - val_loss: 0.6137 - val_accuracy: 0.8445\n",
            "Epoch 71/100\n",
            "227/227 [==============================] - 1s 6ms/step - loss: 0.6083 - accuracy: 0.8432 - val_loss: 0.6089 - val_accuracy: 0.8447\n",
            "Epoch 72/100\n",
            "227/227 [==============================] - 1s 6ms/step - loss: 0.6075 - accuracy: 0.8434 - val_loss: 0.6123 - val_accuracy: 0.8445\n",
            "Epoch 73/100\n",
            "227/227 [==============================] - 1s 6ms/step - loss: 0.6083 - accuracy: 0.8433 - val_loss: 0.6100 - val_accuracy: 0.8447\n",
            "Epoch 74/100\n",
            "227/227 [==============================] - 1s 6ms/step - loss: 0.6081 - accuracy: 0.8433 - val_loss: 0.6106 - val_accuracy: 0.8446\n",
            "Epoch 75/100\n",
            "227/227 [==============================] - 1s 6ms/step - loss: 0.6077 - accuracy: 0.8433 - val_loss: 0.6225 - val_accuracy: 0.8446\n",
            "Epoch 76/100\n",
            "227/227 [==============================] - 1s 6ms/step - loss: 0.6077 - accuracy: 0.8433 - val_loss: 0.6130 - val_accuracy: 0.8447\n",
            "Epoch 77/100\n",
            "227/227 [==============================] - 1s 6ms/step - loss: 0.6078 - accuracy: 0.8433 - val_loss: 0.6176 - val_accuracy: 0.8445\n",
            "Epoch 78/100\n",
            "227/227 [==============================] - 1s 6ms/step - loss: 0.6081 - accuracy: 0.8434 - val_loss: 0.6098 - val_accuracy: 0.8445\n",
            "Epoch 79/100\n",
            "227/227 [==============================] - 1s 6ms/step - loss: 0.6077 - accuracy: 0.8434 - val_loss: 0.6148 - val_accuracy: 0.8445\n",
            "Epoch 80/100\n",
            "227/227 [==============================] - 1s 6ms/step - loss: 0.6077 - accuracy: 0.8433 - val_loss: 0.6096 - val_accuracy: 0.8447\n",
            "Epoch 81/100\n",
            "227/227 [==============================] - 1s 6ms/step - loss: 0.6080 - accuracy: 0.8434 - val_loss: 0.6112 - val_accuracy: 0.8447\n",
            "Epoch 82/100\n",
            "227/227 [==============================] - 1s 6ms/step - loss: 0.6078 - accuracy: 0.8432 - val_loss: 0.6113 - val_accuracy: 0.8447\n",
            "Epoch 83/100\n",
            "227/227 [==============================] - 1s 6ms/step - loss: 0.6078 - accuracy: 0.8434 - val_loss: 0.6200 - val_accuracy: 0.8448\n",
            "Epoch 84/100\n",
            "227/227 [==============================] - 1s 6ms/step - loss: 0.6081 - accuracy: 0.8434 - val_loss: 0.6282 - val_accuracy: 0.8443\n",
            "Epoch 85/100\n",
            "227/227 [==============================] - 1s 6ms/step - loss: 0.6080 - accuracy: 0.8433 - val_loss: 0.6245 - val_accuracy: 0.8446\n",
            "Epoch 86/100\n",
            "227/227 [==============================] - 1s 6ms/step - loss: 0.6077 - accuracy: 0.8434 - val_loss: 0.6110 - val_accuracy: 0.8447\n",
            "Epoch 87/100\n",
            "227/227 [==============================] - 1s 6ms/step - loss: 0.6076 - accuracy: 0.8433 - val_loss: 0.6188 - val_accuracy: 0.8444\n",
            "Epoch 88/100\n",
            "227/227 [==============================] - 1s 6ms/step - loss: 0.6079 - accuracy: 0.8434 - val_loss: 0.6117 - val_accuracy: 0.8443\n",
            "Epoch 89/100\n",
            "227/227 [==============================] - 1s 6ms/step - loss: 0.6075 - accuracy: 0.8433 - val_loss: 0.6245 - val_accuracy: 0.8448\n",
            "Epoch 90/100\n",
            "227/227 [==============================] - 1s 6ms/step - loss: 0.6071 - accuracy: 0.8434 - val_loss: 0.6165 - val_accuracy: 0.8444\n",
            "Epoch 91/100\n",
            "227/227 [==============================] - 1s 6ms/step - loss: 0.6078 - accuracy: 0.8434 - val_loss: 0.6095 - val_accuracy: 0.8444\n",
            "Epoch 92/100\n",
            "227/227 [==============================] - 1s 6ms/step - loss: 0.6076 - accuracy: 0.8433 - val_loss: 0.6135 - val_accuracy: 0.8447\n",
            "Epoch 93/100\n",
            "227/227 [==============================] - 1s 6ms/step - loss: 0.6079 - accuracy: 0.8435 - val_loss: 0.6109 - val_accuracy: 0.8444\n",
            "Epoch 94/100\n",
            "227/227 [==============================] - 1s 6ms/step - loss: 0.6075 - accuracy: 0.8435 - val_loss: 0.6117 - val_accuracy: 0.8447\n",
            "Epoch 95/100\n",
            "227/227 [==============================] - 1s 6ms/step - loss: 0.6079 - accuracy: 0.8434 - val_loss: 0.6107 - val_accuracy: 0.8446\n",
            "Epoch 96/100\n",
            "227/227 [==============================] - 1s 6ms/step - loss: 0.6080 - accuracy: 0.8435 - val_loss: 0.6175 - val_accuracy: 0.8447\n",
            "Epoch 97/100\n",
            "227/227 [==============================] - 1s 6ms/step - loss: 0.6079 - accuracy: 0.8434 - val_loss: 0.6111 - val_accuracy: 0.8447\n",
            "Epoch 98/100\n",
            "227/227 [==============================] - 1s 5ms/step - loss: 0.6080 - accuracy: 0.8435 - val_loss: 0.6130 - val_accuracy: 0.8447\n",
            "Epoch 99/100\n",
            "227/227 [==============================] - 1s 6ms/step - loss: 0.6078 - accuracy: 0.8434 - val_loss: 0.6211 - val_accuracy: 0.8447\n",
            "Epoch 100/100\n",
            "227/227 [==============================] - 1s 6ms/step - loss: 0.6074 - accuracy: 0.8435 - val_loss: 0.6114 - val_accuracy: 0.8447\n"
          ],
          "name": "stdout"
        }
      ]
    },
    {
      "cell_type": "code",
      "metadata": {
        "id": "n0TKb-MgIdPJ",
        "colab_type": "code",
        "colab": {
          "base_uri": "https://localhost:8080/",
          "height": 119
        },
        "outputId": "ee230005-ef96-4679-d5c2-68a301aeacce"
      },
      "source": [
        "train_loss,train_accuracy = nn.evaluate(x_train,y_train)\n",
        "val_loss,val_accuracy = nn.evaluate(x_val,y_val)\n",
        "test_loss,test_accuracy = nn.evaluate(x_test,y_test)\n",
        "print('Training Accuracy : ',train_accuracy*100,\"%\")\n",
        "print('Val Accuracy : ',val_accuracy*100,\"%\")\n",
        "print('Test Accuracy : ',test_accuracy*100,\"%\")"
      ],
      "execution_count": 19,
      "outputs": [
        {
          "output_type": "stream",
          "text": [
            "1810/1810 [==============================] - 2s 991us/step - loss: 0.6093 - accuracy: 0.8435\n",
            "604/604 [==============================] - 1s 961us/step - loss: 0.6114 - accuracy: 0.8447\n",
            "604/604 [==============================] - 1s 932us/step - loss: 0.6101 - accuracy: 0.8447\n",
            "Training Accuracy :  84.35006141662598 %\n",
            "Val Accuracy :  84.47149991989136 %\n",
            "Test Accuracy :  84.47149991989136 %\n"
          ],
          "name": "stdout"
        }
      ]
    },
    {
      "cell_type": "code",
      "metadata": {
        "id": "VA7llKF_JyTD",
        "colab_type": "code",
        "colab": {
          "base_uri": "https://localhost:8080/",
          "height": 295
        },
        "outputId": "5f425fb5-3362-419b-ea6e-ec41515bcd78"
      },
      "source": [
        "loss_train = hist.history['loss']\n",
        "loss_val = hist.history['val_loss']\n",
        "epochs = range(1,101)\n",
        "plt.plot(epochs, loss_train, 'pink', label='Training loss')\n",
        "plt.plot(epochs, loss_val, 'red', label='validation loss')\n",
        "plt.title('Training and Validation loss')\n",
        "plt.xlabel('Epochs')\n",
        "plt.ylabel('Loss')\n",
        "plt.legend()\n",
        "plt.show()"
      ],
      "execution_count": 22,
      "outputs": [
        {
          "output_type": "display_data",
          "data": {
            "image/png": "[encoded data removed]",
            "text/plain": [
              "<Figure size 432x288 with 1 Axes>"
            ]
          },
          "metadata": {
            "tags": [],
            "needs_background": "light"
          }
        }
      ]
    },
    {
      "cell_type": "code",
      "metadata": {
        "id": "RvXG5QUhKMor",
        "colab_type": "code",
        "colab": {
          "base_uri": "https://localhost:8080/",
          "height": 295
        },
        "outputId": "2934a9d5-807b-442b-e537-812748b37211"
      },
      "source": [
        "loss_train = hist.history['accuracy']\n",
        "loss_val = hist.history['val_accuracy']\n",
        "epochs = range(1,101)\n",
        "plt.plot(epochs, loss_train, 'pink', label='Training accuracy')\n",
        "plt.plot(epochs, loss_val, 'red', label='validation accuracy')\n",
        "plt.title('Training and Validation accuracy')\n",
        "plt.xlabel('Epochs')\n",
        "plt.ylabel('Accuracy')\n",
        "plt.legend()\n",
        "plt.show()"
      ],
      "execution_count": 21,
      "outputs": [
        {
          "output_type": "display_data",
          "data": {
            "image/png": "[encoded data removed]",
            "text/plain": [
              "<Figure size 432x288 with 1 Axes>"
            ]
          },
          "metadata": {
            "tags": [],
            "needs_background": "light"
          }
        }
      ]
    },
    {
      "cell_type": "code",
      "metadata": {
        "id": "ldIgweNDKepF",
        "colab_type": "code",
        "colab": {}
      },
      "source": [
        ""
      ],
      "execution_count": 21,
      "outputs": []
    }
  ]
}